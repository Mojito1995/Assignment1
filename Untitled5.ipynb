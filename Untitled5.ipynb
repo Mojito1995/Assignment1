{
 "cells": [
  {
   "cell_type": "markdown",
   "id": "7cd95fa9",
   "metadata": {},
   "source": [
    "# Question 1"
   ]
  },
  {
   "cell_type": "code",
   "execution_count": 1,
   "id": "56af6d5c",
   "metadata": {},
   "outputs": [
    {
     "name": "stdout",
     "output_type": "stream",
     "text": [
      "<class 'str'>\n",
      "<class 'list'>\n",
      "<class 'float'>\n",
      "<class 'tuple'>\n"
     ]
    }
   ],
   "source": [
    "a='Mohit'\n",
    "b=[1,2,3]\n",
    "c=5.0\n",
    "d=(a,b,c)\n",
    "\n",
    "print(type(a))\n",
    "\n",
    "print(type(b))\n",
    "\n",
    "print(type(c))\n",
    "\n",
    "print(type(d))"
   ]
  },
  {
   "cell_type": "code",
   "execution_count": 2,
   "id": "a8ef8b62",
   "metadata": {},
   "outputs": [],
   "source": [
    "#Question 2"
   ]
  },
  {
   "cell_type": "code",
   "execution_count": 4,
   "id": "c8af4efd",
   "metadata": {},
   "outputs": [
    {
     "name": "stdout",
     "output_type": "stream",
     "text": [
      "<class 'str'>\n",
      "<class 'str'>\n",
      "<class 'list'>\n",
      "<class 'int'>\n"
     ]
    }
   ],
   "source": [
    "var1=''\n",
    "var2='[DS,ML,PYTHON]'\n",
    "var3=['DS','ML','PYTHON']\n",
    "var4=1\n",
    "\n",
    "print(type(var1))\n",
    "print(type(var2))\n",
    "print(type(var3))\n",
    "print(type(var4))"
   ]
  },
  {
   "cell_type": "code",
   "execution_count": 5,
   "id": "8ed096df",
   "metadata": {},
   "outputs": [],
   "source": [
    "#Question 3"
   ]
  },
  {
   "cell_type": "code",
   "execution_count": 12,
   "id": "43ce0572",
   "metadata": {},
   "outputs": [
    {
     "name": "stdout",
     "output_type": "stream",
     "text": [
      "2.0\n",
      "1\n",
      "2\n",
      "25\n"
     ]
    }
   ],
   "source": [
    "#'/' will be used to divide the values\n",
    "\n",
    "a=2/1\n",
    "\n",
    "print(a)\n",
    "\n",
    "#'%' is used for giving the remainder\n",
    "\n",
    "b=5%2\n",
    "print(b)\n",
    "\n",
    "\n",
    "#'//' is used to give the quotient\n",
    "\n",
    "\n",
    "c=5//2\n",
    "print(c)\n",
    "\n",
    "#'**' is used for power\n",
    "\n",
    "d=5**2\n",
    "\n",
    "print(d)"
   ]
  },
  {
   "cell_type": "code",
   "execution_count": 13,
   "id": "abae9a0e",
   "metadata": {},
   "outputs": [
    {
     "name": "stdout",
     "output_type": "stream",
     "text": [
      "<class 'int'>\n",
      "<class 'str'>\n",
      "<class 'bool'>\n",
      "<class 'bool'>\n",
      "<class 'float'>\n",
      "<class 'complex'>\n",
      "<class 'int'>\n",
      "<class 'int'>\n",
      "<class 'tuple'>\n",
      "<class 'list'>\n"
     ]
    }
   ],
   "source": [
    "#question4\n",
    "\n",
    "l=[2,'Mohit', True, False, 3.15, 5+2j, 91, 27, (2,3,4),[\"Ram\"]]\n",
    "\n",
    "for i in l:\n",
    "    print(type(i))"
   ]
  },
  {
   "cell_type": "code",
   "execution_count": 17,
   "id": "c9fbbff1",
   "metadata": {},
   "outputs": [
    {
     "name": "stdout",
     "output_type": "stream",
     "text": [
      "2 is not divisble by 3\n",
      "3 is divisble by 3\n",
      "4 is not divisble by 3\n",
      "5 is not divisble by 3\n",
      "6 is divisble by 3\n",
      "7 is not divisble by 3\n",
      "8 is not divisble by 3\n",
      "9 is divisble by 3\n",
      "10 is not divisble by 3\n",
      "11 is not divisble by 3\n",
      "12 is divisble by 3\n",
      "13 is not divisble by 3\n",
      "14 is not divisble by 3\n",
      "15 is divisble by 3\n",
      "16 is not divisble by 3\n",
      "17 is not divisble by 3\n",
      "18 is divisble by 3\n",
      "19 is not divisble by 3\n",
      "20 is not divisble by 3\n",
      "21 is divisble by 3\n",
      "22 is not divisble by 3\n",
      "23 is not divisble by 3\n",
      "24 is divisble by 3\n",
      "25 is not divisble by 3\n",
      "26 is not divisble by 3\n"
     ]
    }
   ],
   "source": [
    "#Question 6\n",
    "\n",
    "\n",
    "l=[2,3,4,5,6,7,8,9,10,11,12,13,14,15,16,17,18,19,20,21,22,23,24,25,26]\n",
    "\n",
    "\n",
    "\n",
    "for i in l:\n",
    "    if i%3==0:\n",
    "        print(f\"{i} is divisble by 3\")\n",
    "    else:\n",
    "        print(f\"{i} is not divisble by 3\")"
   ]
  },
  {
   "cell_type": "code",
   "execution_count": 21,
   "id": "b3b08234",
   "metadata": {},
   "outputs": [
    {
     "data": {
      "text/plain": [
       "['a', 'd', 'c']"
      ]
     },
     "execution_count": 21,
     "metadata": {},
     "output_type": "execute_result"
    }
   ],
   "source": [
    "#question 7\n",
    "\n",
    "\n",
    "'''Mutable: those data type which we can change after the declaration'''\n",
    "\n",
    "'''ImMutable: those data type which we can't change after the declaration'''\n",
    "\n",
    "#string is immutable\n",
    "\n",
    "#l='abc'\n",
    "\n",
    "#l[1]=b\n",
    "\n",
    "\n",
    "#list is mutable\n",
    "\n",
    "l=['a','b','c']\n",
    "\n",
    "l[1]='d'\n",
    "\n",
    "l\n",
    "\n",
    "\n"
   ]
  },
  {
   "cell_type": "code",
   "execution_count": null,
   "id": "0c742902",
   "metadata": {},
   "outputs": [],
   "source": []
  },
  {
   "cell_type": "code",
   "execution_count": null,
   "id": "7c4c317a",
   "metadata": {},
   "outputs": [],
   "source": []
  }
 ],
 "metadata": {
  "kernelspec": {
   "display_name": "Python 3 (ipykernel)",
   "language": "python",
   "name": "python3"
  },
  "language_info": {
   "codemirror_mode": {
    "name": "ipython",
    "version": 3
   },
   "file_extension": ".py",
   "mimetype": "text/x-python",
   "name": "python",
   "nbconvert_exporter": "python",
   "pygments_lexer": "ipython3",
   "version": "3.9.13"
  }
 },
 "nbformat": 4,
 "nbformat_minor": 5
}
